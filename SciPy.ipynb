{
 "cells": [
  {
   "cell_type": "markdown",
   "id": "e457e434",
   "metadata": {},
   "source": [
    "# Objective: \n",
    "\n",
    "1. introduction to SciPy \n",
    "2. install SciPy\n",
    "3. application of SciPy in finding root, optimization and linear Interpolation "
   ]
  },
  {
   "cell_type": "markdown",
   "id": "63ed7d00",
   "metadata": {},
   "source": [
    "# What is SciPy?\n",
    "\n",
    "1. SciPy is a scientific computation library that uses NumPy underneath.\n",
    "\n",
    "2. SciPy stands for Scientific Python.\n",
    "\n",
    "3. It provides more utility functions for optimization, stats and signal processing.\n"
   ]
  },
  {
   "cell_type": "markdown",
   "id": "142ab956",
   "metadata": {},
   "source": [
    "### Installation of SciPy \n",
    "\n",
    "> pip install scipy\n"
   ]
  },
  {
   "cell_type": "markdown",
   "id": "cb9ffa87",
   "metadata": {},
   "source": [
    "### Import SciPy\n",
    "\n",
    "Once SciPy is installed, import the SciPy module(s) you want: \n",
    "\n",
    ">from scipy import module statement"
   ]
  },
  {
   "cell_type": "markdown",
   "id": "8c469c20",
   "metadata": {},
   "source": [
    "## check if you have you successfully installed SciPy"
   ]
  },
  {
   "cell_type": "code",
   "execution_count": 1,
   "id": "e6975ac3",
   "metadata": {},
   "outputs": [
    {
     "name": "stdout",
     "output_type": "stream",
     "text": [
      "0.001\n"
     ]
    }
   ],
   "source": [
    "# example 1. how many cubic meters are in one liter? \n",
    "from scipy import constants\n",
    "print(constants.liter)"
   ]
  },
  {
   "cell_type": "code",
   "execution_count": 2,
   "id": "3691a9e2",
   "metadata": {},
   "outputs": [
    {
     "name": "stdout",
     "output_type": "stream",
     "text": [
      "3.141592653589793\n"
     ]
    }
   ],
   "source": [
    "# example 2. print the constant value of PI \n",
    "from scipy import constants \n",
    "print(constants.pi)\n"
   ]
  },
  {
   "cell_type": "code",
   "execution_count": 3,
   "id": "cc284597",
   "metadata": {},
   "outputs": [
    {
     "name": "stdout",
     "output_type": "stream",
     "text": [
      "['Avogadro', 'Boltzmann', 'Btu', 'Btu_IT', 'Btu_th', 'ConstantWarning', 'G', 'Julian_year', 'N_A', 'Planck', 'R', 'Rydberg', 'Stefan_Boltzmann', 'Wien', '__all__', '__builtins__', '__cached__', '__doc__', '__file__', '__loader__', '__name__', '__package__', '__path__', '__spec__', '_obsolete_constants', 'absolute_import', 'acre', 'alpha', 'angstrom', 'arcmin', 'arcminute', 'arcsec', 'arcsecond', 'astronomical_unit', 'atm', 'atmosphere', 'atomic_mass', 'atto', 'au', 'bar', 'barrel', 'bbl', 'blob', 'c', 'calorie', 'calorie_IT', 'calorie_th', 'carat', 'centi', 'codata', 'constants', 'convert_temperature', 'day', 'deci', 'degree', 'degree_Fahrenheit', 'deka', 'division', 'dyn', 'dyne', 'e', 'eV', 'electron_mass', 'electron_volt', 'elementary_charge', 'epsilon_0', 'erg', 'exa', 'exbi', 'femto', 'fermi', 'find', 'fine_structure', 'fluid_ounce', 'fluid_ounce_US', 'fluid_ounce_imp', 'foot', 'g', 'gallon', 'gallon_US', 'gallon_imp', 'gas_constant', 'gibi', 'giga', 'golden', 'golden_ratio', 'grain', 'gram', 'gravitational_constant', 'h', 'hbar', 'hectare', 'hecto', 'horsepower', 'hour', 'hp', 'inch', 'k', 'kgf', 'kibi', 'kilo', 'kilogram_force', 'kmh', 'knot', 'lambda2nu', 'lb', 'lbf', 'light_year', 'liter', 'litre', 'long_ton', 'm_e', 'm_n', 'm_p', 'm_u', 'mach', 'mebi', 'mega', 'metric_ton', 'micro', 'micron', 'mil', 'mile', 'milli', 'minute', 'mmHg', 'mph', 'mu_0', 'nano', 'nautical_mile', 'neutron_mass', 'nu2lambda', 'ounce', 'oz', 'parsec', 'pebi', 'peta', 'physical_constants', 'pi', 'pico', 'point', 'pound', 'pound_force', 'precision', 'print_function', 'proton_mass', 'psi', 'pt', 'short_ton', 'sigma', 'slinch', 'slug', 'speed_of_light', 'speed_of_sound', 'stone', 'survey_foot', 'survey_mile', 'tebi', 'tera', 'test', 'ton_TNT', 'torr', 'troy_ounce', 'troy_pound', 'u', 'unit', 'value', 'week', 'yard', 'year', 'yobi', 'yotta', 'zebi', 'zepto', 'zero_Celsius', 'zetta']\n"
     ]
    }
   ],
   "source": [
    "# example 3.  List all constants by using dir() function \n",
    "from scipy import constants \n",
    "print(dir(constants))"
   ]
  },
  {
   "cell_type": "markdown",
   "id": "ba9dfdc4",
   "metadata": {},
   "source": [
    "# Application 1. Find Roots of a nonlinear Equation\n",
    "NumPy is capable of finding roots for polynomials and linear equations, but it can not find roots for nonlinear equations, such as \n",
    "\n",
    "> x + cos(x) = 0\n",
    "\n",
    "Therefore, you have to use SciPy's optimze.root() function.\n"
   ]
  },
  {
   "cell_type": "code",
   "execution_count": 4,
   "id": "5e3a823d",
   "metadata": {},
   "outputs": [
    {
     "data": {
      "image/png": "[encoded data removed]",
      "text/plain": [
       "<Figure size 432x288 with 1 Axes>"
      ]
     },
     "metadata": {
      "needs_background": "light"
     },
     "output_type": "display_data"
    }
   ],
   "source": [
    "import numpy as np\n",
    "import matplotlib.pyplot as plt\n",
    "\n",
    "x = np.linspace(-10, 10)\n",
    "y = x + np.cos(x)\n",
    "\n",
    "plt.axhline(y=0, color='r', linestyle='-')\n",
    "plt.plot(x,y)\n",
    "plt.xlabel('x')\n",
    "plt.ylabel('y')\n",
    "plt.title('x + cos(x) = 0')\n",
    "plt.show()"
   ]
  },
  {
   "cell_type": "code",
   "execution_count": 5,
   "id": "93f9ce9a",
   "metadata": {},
   "outputs": [],
   "source": [
    "# find root of the non-linear equation x + cos(x) = 0 \n",
    "\n",
    "from scipy.optimize import root \n",
    "from math import cos \n",
    "\n",
    "# define the fuction x + cos(x) = 0 \n",
    "def eqn(x):\n",
    "    return x + cos(x)\n",
    "\n",
    "myroot = root(eqn, 0)"
   ]
  },
  {
   "cell_type": "code",
   "execution_count": 6,
   "id": "5402915a",
   "metadata": {},
   "outputs": [
    {
     "name": "stdout",
     "output_type": "stream",
     "text": [
      "    fjac: array([[-1.]])\n",
      "     fun: array([0.])\n",
      " message: 'The solution converged.'\n",
      "    nfev: 9\n",
      "     qtf: array([-2.66786593e-13])\n",
      "       r: array([-1.67361202])\n",
      "  status: 1\n",
      " success: True\n",
      "       x: array([-0.73908513])\n"
     ]
    }
   ],
   "source": [
    "# Print all information about the solution \n",
    "print(myroot)"
   ]
  },
  {
   "cell_type": "code",
   "execution_count": 7,
   "id": "2cbdcadc",
   "metadata": {},
   "outputs": [
    {
     "name": "stdout",
     "output_type": "stream",
     "text": [
      "[-0.73908513]\n"
     ]
    }
   ],
   "source": [
    "# print the root x \n",
    "print(myroot.x)"
   ]
  },
  {
   "cell_type": "markdown",
   "id": "b49af3e4",
   "metadata": {},
   "source": [
    "# Application 2. Find minimum of a Function\n",
    "\n",
    "We can use scipy.optimize.minimize() function to minimize the function."
   ]
  },
  {
   "cell_type": "code",
   "execution_count": 8,
   "id": "624e32b3",
   "metadata": {},
   "outputs": [
    {
     "data": {
      "image/png": "[encoded data removed]",
      "text/plain": [
       "<Figure size 432x288 with 1 Axes>"
      ]
     },
     "metadata": {
      "needs_background": "light"
     },
     "output_type": "display_data"
    }
   ],
   "source": [
    "import numpy as np\n",
    "import matplotlib.pyplot as plt\n",
    "\n",
    "x = np.linspace(-5, 5)\n",
    "y = x**2 + x + 2\n",
    "\n",
    "plt.plot(x,y)\n",
    "plt.xlabel('x')\n",
    "plt.ylabel('y')\n",
    "plt.title('y = x^2 + x + 2')\n",
    "plt.show()"
   ]
  },
  {
   "cell_type": "code",
   "execution_count": 9,
   "id": "aaf521af",
   "metadata": {},
   "outputs": [],
   "source": [
    "# Example. Minimize the function x^2 + x + 2 with BFGS:\n",
    "from scipy.optimize import minimize\n",
    "\n",
    "# define function x^2 + x + 2 \n",
    "def eqn(x):\n",
    "    return x**2 + x + 2\n",
    "\n",
    "# syntax minimize (eqn, initial-point, method)\n",
    "# list of method are: 'CG', 'BFGS', 'Newton-CG', 'L-BFGS-B', 'TNC', 'COBYLA', 'SLSQP'\n",
    "mymin = minimize(eqn, 0, method='BFGS') "
   ]
  },
  {
   "cell_type": "code",
   "execution_count": 10,
   "id": "7b935909",
   "metadata": {},
   "outputs": [
    {
     "name": "stdout",
     "output_type": "stream",
     "text": [
      "      fun: 1.75\n",
      " hess_inv: array([[0.50000001]])\n",
      "      jac: array([0.])\n",
      "  message: 'Optimization terminated successfully.'\n",
      "     nfev: 12\n",
      "      nit: 2\n",
      "     njev: 4\n",
      "   status: 0\n",
      "  success: True\n",
      "        x: array([-0.50000001])\n"
     ]
    }
   ],
   "source": [
    "# Print all information about the minimum \n",
    "print(mymin)"
   ]
  },
  {
   "cell_type": "code",
   "execution_count": 11,
   "id": "9c18bcd1",
   "metadata": {},
   "outputs": [
    {
     "name": "stdout",
     "output_type": "stream",
     "text": [
      "[-0.50000001]\n"
     ]
    }
   ],
   "source": [
    "# Print the minimum point  \n",
    "print(mymin.x)"
   ]
  },
  {
   "cell_type": "markdown",
   "id": "5c304791",
   "metadata": {},
   "source": [
    "# Application 3. Linear Interpolation \n",
    "\n",
    "Interpolation is a method for generating points between given points.\n",
    "\n",
    "For example: for points 1 and 2, we may interpolate and find points 1.33 and 1.66.\n",
    "\n",
    "Interpolation has many usage, in Machine Learning we often deal with missing data in a dataset, interpolation is often used to substitute those values.\n"
   ]
  },
  {
   "cell_type": "code",
   "execution_count": 12,
   "id": "5794030b",
   "metadata": {},
   "outputs": [
    {
     "name": "stdout",
     "output_type": "stream",
     "text": [
      "x =  [0 1 2 3 4 5 6 7 8 9]\n",
      "y =  [ 1  3  5  7  9 11 13 15 17 19]\n"
     ]
    },
    {
     "data": {
      "image/png": "[encoded data removed]",
      "text/plain": [
       "<Figure size 432x288 with 1 Axes>"
      ]
     },
     "metadata": {
      "needs_background": "light"
     },
     "output_type": "display_data"
    }
   ],
   "source": [
    "# For given xs and ys interpolate values:\n",
    "\n",
    "from scipy.interpolate import interp1d\n",
    "import numpy as np\n",
    "import matplotlib.pyplot as plt\n",
    "\n",
    "x = np.arange(0, 10) # integers 0 - 9 \n",
    "y = 2*x + 1\n",
    "\n",
    "print('x = ', x)\n",
    "print('y = ', y)\n",
    "\n",
    "plt.plot(x,y)\n",
    "plt.xlabel('x')\n",
    "plt.ylabel('y')\n",
    "plt.title('y = 2x + 1')\n",
    "plt.show()"
   ]
  },
  {
   "cell_type": "code",
   "execution_count": 13,
   "id": "a7ede4b1",
   "metadata": {},
   "outputs": [],
   "source": [
    "# 1D Interpolation\n",
    "# The function interp1d() is used to interpolate a distribution with 1 variable.\n",
    "# It takes x and y points \n",
    "# returns a callable function that can be called with new x and returns corresponding y.\n",
    "\n",
    "interp_func = interp1d(x, y)"
   ]
  },
  {
   "cell_type": "code",
   "execution_count": 14,
   "id": "2b32bfc0",
   "metadata": {},
   "outputs": [
    {
     "data": {
      "text/plain": [
       "<scipy.interpolate.interpolate.interp1d at 0x7f9288e24290>"
      ]
     },
     "execution_count": 14,
     "metadata": {},
     "output_type": "execute_result"
    }
   ],
   "source": [
    "interp_func"
   ]
  },
  {
   "cell_type": "code",
   "execution_count": 15,
   "id": "0a29755f",
   "metadata": {},
   "outputs": [
    {
     "data": {
      "text/plain": [
       "array([3. , 3.1, 3.2, 3.3, 3.4, 3.5, 3.6, 3.7, 3.8, 3.9, 4. , 4.1, 4.2,\n",
       "       4.3, 4.4, 4.5, 4.6, 4.7, 4.8, 4.9, 5. , 5.1, 5.2, 5.3, 5.4, 5.5,\n",
       "       5.6, 5.7, 5.8, 5.9])"
      ]
     },
     "execution_count": 15,
     "metadata": {},
     "output_type": "execute_result"
    }
   ],
   "source": [
    "new_x = np.arange(3, 6 , 0.1)\n",
    "new_x"
   ]
  },
  {
   "cell_type": "code",
   "execution_count": 16,
   "id": "2c3a7b6a",
   "metadata": {},
   "outputs": [
    {
     "data": {
      "text/plain": [
       "array([ 7. ,  7.2,  7.4,  7.6,  7.8,  8. ,  8.2,  8.4,  8.6,  8.8,  9. ,\n",
       "        9.2,  9.4,  9.6,  9.8, 10. , 10.2, 10.4, 10.6, 10.8, 11. , 11.2,\n",
       "       11.4, 11.6, 11.8, 12. , 12.2, 12.4, 12.6, 12.8])"
      ]
     },
     "execution_count": 16,
     "metadata": {},
     "output_type": "execute_result"
    }
   ],
   "source": [
    "new_y = interp_func(new_x)\n",
    "new_y"
   ]
  },
  {
   "cell_type": "code",
   "execution_count": 17,
   "id": "88b04555",
   "metadata": {},
   "outputs": [
    {
     "name": "stderr",
     "output_type": "stream",
     "text": [
      "/Users/Pi/anaconda3/lib/python3.7/site-packages/ipykernel_launcher.py:1: MatplotlibDeprecationWarning: Case-insensitive properties were deprecated in 3.3 and support will be removed two minor releases later\n",
      "  \"\"\"Entry point for launching an IPython kernel.\n"
     ]
    },
    {
     "data": {
      "text/plain": [
       "<matplotlib.legend.Legend at 0x7f92580f4610>"
      ]
     },
     "execution_count": 17,
     "metadata": {},
     "output_type": "execute_result"
    },
    {
     "data": {
      "image/png": "[encoded data removed]",
      "text/plain": [
       "<Figure size 432x288 with 1 Axes>"
      ]
     },
     "metadata": {
      "needs_background": "light"
     },
     "output_type": "display_data"
    }
   ],
   "source": [
    "plt.plot(x,y, '-r', LineWidth = 10)\n",
    "plt.plot(new_x,new_y, '--b', linewidth = 5)\n",
    "plt.xlabel(' x')\n",
    "plt.ylabel(' y')\n",
    "plt.legend(['given points', 'interpolation points'])"
   ]
  },
  {
   "cell_type": "markdown",
   "id": "34e8e31b",
   "metadata": {},
   "source": [
    "# Summary: \n",
    "\n",
    "1. What is SciPy?  \n",
    "2. How to use SciPy to find a root of a non-linear function\n",
    "3. How to find the minimum of a function \n",
    "3. How to use SciPy to find linear interpolation \n",
    "\n",
    "# Next: Scikit-learn"
   ]
  },
  {
   "cell_type": "code",
   "execution_count": null,
   "id": "e86088f9",
   "metadata": {},
   "outputs": [],
   "source": []
  }
 ],
 "metadata": {
  "kernelspec": {
   "display_name": "Python 3",
   "language": "python",
   "name": "python3"
  },
  "language_info": {
   "codemirror_mode": {
    "name": "ipython",
    "version": 3
   },
   "file_extension": ".py",
   "mimetype": "text/x-python",
   "name": "python",
   "nbconvert_exporter": "python",
   "pygments_lexer": "ipython3",
   "version": "3.7.6"
  }
 },
 "nbformat": 4,
 "nbformat_minor": 5
}
