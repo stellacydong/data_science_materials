{
 "cells": [
  {
   "cell_type": "markdown",
   "id": "6b1f190a",
   "metadata": {},
   "source": [
    "# Objectives: \n",
    "\n",
    "This is Scikit-learn Part 3. You will ... \n",
    "\n",
    "1. load the handwritten digits image dataset from Scikit-learn. \n",
    "\n",
    "2. explore your data with the help of matplotlib and Principal Component Analysis (PCA),\n",
    "\n",
    "3. split your data into training and test sets.\n",
    "\n",
    "5. construct an supervised model (Support Vector Machines (SVM)), fit this model to the data, predict values, and validate the model that you have built.\n",
    "\n"
   ]
  },
  {
   "cell_type": "markdown",
   "id": "5004110b",
   "metadata": {},
   "source": [
    "# Loading handwritten digits image dataset "
   ]
  },
  {
   "cell_type": "code",
   "execution_count": 1,
   "id": "7eeff08d",
   "metadata": {},
   "outputs": [],
   "source": [
    "# Import `datasets` from `sklearn`\n",
    "from sklearn import datasets\n",
    "import numpy as np\n",
    "\n",
    "# Load in the `digits` data\n",
    "digits = datasets.load_digits()"
   ]
  },
  {
   "cell_type": "code",
   "execution_count": 2,
   "id": "73bab198",
   "metadata": {},
   "outputs": [
    {
     "data": {
      "text/plain": [
       "sklearn.utils.Bunch"
      ]
     },
     "execution_count": 2,
     "metadata": {},
     "output_type": "execute_result"
    }
   ],
   "source": [
    "type(digits)"
   ]
  },
  {
   "cell_type": "code",
   "execution_count": 3,
   "id": "10d8f280",
   "metadata": {},
   "outputs": [
    {
     "data": {
      "text/plain": [
       "dict_keys(['data', 'target', 'frame', 'feature_names', 'target_names', 'images', 'DESCR'])"
      ]
     },
     "execution_count": 3,
     "metadata": {},
     "output_type": "execute_result"
    }
   ],
   "source": [
    "digits.keys()"
   ]
  },
  {
   "cell_type": "markdown",
   "id": "8b986714",
   "metadata": {},
   "source": [
    "# Explore the Data"
   ]
  },
  {
   "cell_type": "code",
   "execution_count": 4,
   "id": "de726b7b",
   "metadata": {},
   "outputs": [
    {
     "name": "stdout",
     "output_type": "stream",
     "text": [
      ".. _digits_dataset:\n",
      "\n",
      "Optical recognition of handwritten digits dataset\n",
      "--------------------------------------------------\n",
      "\n",
      "**Data Set Characteristics:**\n",
      "\n",
      "    :Number of Instances: 1797\n",
      "    :Number of Attributes: 64\n",
      "    :Attribute Information: 8x8 image of integer pixels in the range 0..16.\n",
      "    :Missing Attribute Values: None\n",
      "    :Creator: E. Alpaydin (alpaydin '@' boun.edu.tr)\n",
      "    :Date: July; 1998\n",
      "\n",
      "This is a copy of the test set of the UCI ML hand-written digits datasets\n",
      "https://archive.ics.uci.edu/ml/datasets/Optical+Recognition+of+Handwritten+Digits\n",
      "\n",
      "The data set contains images of hand-written digits: 10 classes where\n",
      "each class refers to a digit.\n",
      "\n",
      "Preprocessing programs made available by NIST were used to extract\n",
      "normalized bitmaps of handwritten digits from a preprinted form. From a\n",
      "total of 43 people, 30 contributed to the training set and different 13\n",
      "to the test set. 32x32 bitmaps are divided into nonoverlapping blocks of\n",
      "4x4 and the number of on pixels are counted in each block. This generates\n",
      "an input matrix of 8x8 where each element is an integer in the range\n",
      "0..16. This reduces dimensionality and gives invariance to small\n",
      "distortions.\n",
      "\n",
      "For info on NIST preprocessing routines, see M. D. Garris, J. L. Blue, G.\n",
      "T. Candela, D. L. Dimmick, J. Geist, P. J. Grother, S. A. Janet, and C.\n",
      "L. Wilson, NIST Form-Based Handprint Recognition System, NISTIR 5469,\n",
      "1994.\n",
      "\n",
      ".. topic:: References\n",
      "\n",
      "  - C. Kaynak (1995) Methods of Combining Multiple Classifiers and Their\n",
      "    Applications to Handwritten Digit Recognition, MSc Thesis, Institute of\n",
      "    Graduate Studies in Science and Engineering, Bogazici University.\n",
      "  - E. Alpaydin, C. Kaynak (1998) Cascading Classifiers, Kybernetika.\n",
      "  - Ken Tang and Ponnuthurai N. Suganthan and Xi Yao and A. Kai Qin.\n",
      "    Linear dimensionalityreduction using relevance weighted LDA. School of\n",
      "    Electrical and Electronic Engineering Nanyang Technological University.\n",
      "    2005.\n",
      "  - Claudio Gentile. A New Approximate Maximal Margin Classification\n",
      "    Algorithm. NIPS. 2000.\n",
      "\n"
     ]
    }
   ],
   "source": [
    "# Print out the description of the `digits` data\n",
    "print(digits.DESCR)"
   ]
  },
  {
   "cell_type": "code",
   "execution_count": 5,
   "id": "e556b0ae",
   "metadata": {},
   "outputs": [
    {
     "name": "stdout",
     "output_type": "stream",
     "text": [
      "[[ 0.  0.  5. ...  0.  0.  0.]\n",
      " [ 0.  0.  0. ... 10.  0.  0.]\n",
      " [ 0.  0.  0. ... 16.  9.  0.]\n",
      " ...\n",
      " [ 0.  0.  1. ...  6.  0.  0.]\n",
      " [ 0.  0.  2. ... 12.  0.  0.]\n",
      " [ 0.  0. 10. ... 12.  1.  0.]]\n"
     ]
    }
   ],
   "source": [
    "# Print out the data\n",
    "print(digits.data)"
   ]
  },
  {
   "cell_type": "code",
   "execution_count": 6,
   "id": "de0c3923",
   "metadata": {},
   "outputs": [
    {
     "name": "stdout",
     "output_type": "stream",
     "text": [
      "<class 'numpy.ndarray'>\n"
     ]
    }
   ],
   "source": [
    "# Print out the data\n",
    "print(type(digits.data))"
   ]
  },
  {
   "cell_type": "code",
   "execution_count": 7,
   "id": "3ecf06ce",
   "metadata": {},
   "outputs": [
    {
     "name": "stdout",
     "output_type": "stream",
     "text": [
      "(1797, 64)\n"
     ]
    }
   ],
   "source": [
    "# Print out the data\n",
    "print(digits.data.shape)"
   ]
  },
  {
   "cell_type": "code",
   "execution_count": 8,
   "id": "20d88730",
   "metadata": {},
   "outputs": [
    {
     "name": "stdout",
     "output_type": "stream",
     "text": [
      "[0 1 2 ... 8 9 8]\n"
     ]
    }
   ],
   "source": [
    "# Print out the target values\n",
    "print(digits.target)"
   ]
  },
  {
   "cell_type": "code",
   "execution_count": 9,
   "id": "89877d34",
   "metadata": {},
   "outputs": [
    {
     "name": "stdout",
     "output_type": "stream",
     "text": [
      "(1797,)\n"
     ]
    }
   ],
   "source": [
    "# Inspect the shape\n",
    "print(digits.target.shape)"
   ]
  },
  {
   "cell_type": "markdown",
   "id": "e12b482e",
   "metadata": {},
   "source": [
    "Because you have 1797 samples, you also have 1797 target values."
   ]
  },
  {
   "cell_type": "code",
   "execution_count": 10,
   "id": "8312adbd",
   "metadata": {},
   "outputs": [
    {
     "name": "stdout",
     "output_type": "stream",
     "text": [
      "10\n"
     ]
    }
   ],
   "source": [
    "# Print the number of unique labels\n",
    "number_digits = len(np.unique(digits.target))\n",
    "\n",
    "print(number_digits)"
   ]
  },
  {
   "cell_type": "markdown",
   "id": "9adecea8",
   "metadata": {},
   "source": [
    "These 10 unique digits are 0, 1, 2, 3, 4, 5, 6, 7, 8, 9"
   ]
  },
  {
   "cell_type": "code",
   "execution_count": 11,
   "id": "7fbf324b",
   "metadata": {},
   "outputs": [
    {
     "name": "stdout",
     "output_type": "stream",
     "text": [
      "(1797, 8, 8)\n"
     ]
    }
   ],
   "source": [
    "# Isolate the `images`\n",
    "digits_images = digits.images\n",
    "\n",
    "# Inspect the shape\n",
    "print(digits_images.shape)"
   ]
  },
  {
   "cell_type": "markdown",
   "id": "10e8e4ea",
   "metadata": {},
   "source": [
    "The images data contains three dimensions: there are 1797 instances that are 8 by 8 pixels big. "
   ]
  },
  {
   "cell_type": "markdown",
   "id": "0b008e8d",
   "metadata": {},
   "source": [
    "# Visualize Your Data Images With matplotlib"
   ]
  },
  {
   "cell_type": "code",
   "execution_count": 12,
   "id": "1bbe7a5d",
   "metadata": {},
   "outputs": [
    {
     "data": {
      "image/png": "[encoded data removed]",
      "text/plain": [
       "<Figure size 288x288 with 16 Axes>"
      ]
     },
     "metadata": {},
     "output_type": "display_data"
    }
   ],
   "source": [
    "# Import matplotlib\n",
    "import matplotlib.pyplot as plt\n",
    "\n",
    "# Figure size (width, height) in inches\n",
    "fig = plt.figure(figsize=(4, 4))\n",
    "\n",
    "# Adjust the subplots \n",
    "fig.subplots_adjust(left=0, right=1, bottom=0, top=1, hspace=0.05, wspace=0.05)\n",
    "\n",
    "# For each of the 16 images\n",
    "for i in range(16):\n",
    "    # Initialize the subplots: add a subplot in the grid of 8 by 8, at the i+1-th position\n",
    "    ax = fig.add_subplot(4, 4, i + 1, xticks=[], yticks=[])\n",
    "    # Display an image at the i-th position\n",
    "    ax.imshow(digits.images[i], cmap=plt.cm.binary, interpolation='nearest')\n",
    "    # label the image with the target value\n",
    "    ax.text(0, 7, str(digits.target[i]))\n",
    "\n",
    "# Show the plot\n",
    "plt.show()"
   ]
  },
  {
   "cell_type": "markdown",
   "id": "433f5d27",
   "metadata": {},
   "source": [
    "### Visualizing Your Data: Principal Component Analysis (PCA)\n",
    "\n",
    "#### Why do we need to use PCA? \n",
    "As the digits data set contains 64 features, you’re working with a high dimensional data set. However, the effective dimensionality might be much smaller than the number of the features, such as in data sets where some features are irrelevant. In addition, data with only two or three dimensions are easier to grasp and can also be visualized easily. You’re going to visualize the data with the help of one of the Dimensionality Reduction techniques, namely Principal Component Analysis (PCA). \n",
    "\n",
    "#### What's PCA? \n",
    "The idea in PCA is to find a linear combination of the two variables that contains most of the information. This new variable or “principal component” can replace the two original variables.\n",
    "\n",
    "In short, it’s a linear transformation method that yields the directions (principal components) that maximize the variance of the data. Remember that the variance indicates how far a set of data points lie apart. \n",
    "\n",
    "You can easily apply PCA do your data with the help of scikit-learn:"
   ]
  },
  {
   "cell_type": "code",
   "execution_count": 13,
   "id": "fecafd3e",
   "metadata": {},
   "outputs": [],
   "source": [
    "# import library \n",
    "from sklearn.decomposition import PCA\n",
    "\n",
    "# Create a regular PCA model \n",
    "pca = PCA(n_components=2)\n",
    "\n",
    "# Fit and transform the data to the model\n",
    "reduced_data_pca = pca.fit_transform(digits.data)\n"
   ]
  },
  {
   "cell_type": "code",
   "execution_count": 14,
   "id": "4a6d2da6",
   "metadata": {},
   "outputs": [
    {
     "data": {
      "text/plain": [
       "(1797, 2)"
      ]
     },
     "execution_count": 14,
     "metadata": {},
     "output_type": "execute_result"
    }
   ],
   "source": [
    "# Inspect the shape\n",
    "reduced_data_pca.shape"
   ]
  },
  {
   "cell_type": "code",
   "execution_count": 15,
   "id": "76e3e053",
   "metadata": {},
   "outputs": [
    {
     "name": "stdout",
     "output_type": "stream",
     "text": [
      "[[ -1.25946851  21.27488104]\n",
      " [  7.95761538 -20.76870347]\n",
      " [  6.99192097  -9.95598249]\n",
      " ...\n",
      " [ 10.80127944  -6.96024858]\n",
      " [ -4.87210213  12.42394463]\n",
      " [ -0.34439468   6.36555669]]\n"
     ]
    }
   ],
   "source": [
    "# Print out the data\n",
    "print(reduced_data_pca)"
   ]
  },
  {
   "cell_type": "markdown",
   "id": "50d6cd77",
   "metadata": {},
   "source": [
    "You can now build a scatterplot to visualize the data:"
   ]
  },
  {
   "cell_type": "code",
   "execution_count": 16,
   "id": "9893b542",
   "metadata": {},
   "outputs": [
    {
     "data": {
      "image/png": "[encoded data removed]",
      "text/plain": [
       "<Figure size 432x288 with 1 Axes>"
      ]
     },
     "metadata": {
      "needs_background": "light"
     },
     "output_type": "display_data"
    }
   ],
   "source": [
    "# You put your colors together in a list. \n",
    "# Note that you list ten colors, which is equal to the number of labels that you have. \n",
    "colors = ['black', 'blue', 'purple', 'yellow', 'white', 'red', 'lime', 'cyan', 'orange', 'gray']\n",
    "\n",
    "# You set up your x and y coordinates. \n",
    "# x = the first column of reduced_data_pca,\n",
    "# y = the second column of reduced_data_pca,\n",
    "for i in range(len(colors)):\n",
    "    x = reduced_data_pca[:, 0][digits.target == i]\n",
    "    y = reduced_data_pca[:, 1][digits.target == i]\n",
    "    plt.scatter(x, y, c=colors[i])\n",
    "    \n",
    "plt.legend(digits.target_names, bbox_to_anchor=(1.05, 1), loc=2, borderaxespad=0.)\n",
    "plt.xlabel('First Principal Component')\n",
    "plt.ylabel('Second Principal Component')\n",
    "plt.title(\"PCA Scatter Plot\")\n",
    "plt.show()"
   ]
  },
  {
   "cell_type": "markdown",
   "id": "a579a5da",
   "metadata": {},
   "source": [
    "# Splitting Your Data Into Training And Test Sets\n",
    "\n",
    "Divide the data set into two parts: a training set and a test set. The first is used to train the system, while the second is used to evaluate the learned or trained system.\n",
    "    \n",
    "In practice, the division of your data set into a test and a training sets are disjoint: the most common splitting choice is to take 2/3 of your original data set as the training set, while the 1/3 that remains will compose the test set.    \n"
   ]
  },
  {
   "cell_type": "code",
   "execution_count": 17,
   "id": "1c9f7f7e",
   "metadata": {},
   "outputs": [],
   "source": [
    "# Import `train_test_split`\n",
    "from sklearn.model_selection import train_test_split\n",
    "\n",
    "# Split the data into training and test sets \n",
    "X_train, X_test, y_train, y_test, images_train, images_test = train_test_split(digits.data, digits.target, digits.images, test_size=0.25, random_state=42)\n"
   ]
  },
  {
   "cell_type": "code",
   "execution_count": 18,
   "id": "b0ad6691",
   "metadata": {},
   "outputs": [
    {
     "name": "stdout",
     "output_type": "stream",
     "text": [
      "1347\n",
      "64\n"
     ]
    }
   ],
   "source": [
    "# Number of training features\n",
    "n_samples, n_features = X_train.shape\n",
    "\n",
    "# Print out `n_samples`\n",
    "print(n_samples)\n",
    "\n",
    "# Print out `n_features`\n",
    "print(n_features)\n"
   ]
  },
  {
   "cell_type": "code",
   "execution_count": 19,
   "id": "65ceb4a6",
   "metadata": {},
   "outputs": [
    {
     "name": "stdout",
     "output_type": "stream",
     "text": [
      "10\n",
      "1347\n"
     ]
    }
   ],
   "source": [
    "# Number of Training labels\n",
    "n_digits = len(np.unique(y_train))\n",
    "print(n_digits)\n",
    "\n",
    "# Inspect `y_train`\n",
    "print(len(y_train))"
   ]
  },
  {
   "cell_type": "markdown",
   "id": "24008534",
   "metadata": {},
   "source": [
    "You’ll see that the training set X_train now contains 1347 samples, which is precisely 2/3d of the samples that the original data set contained, and 64 features, which hasn’t changed. The y_train training set also contains 2/3d of the labels of the original data set. This means that the test sets X_test and y_test contains 450 samples."
   ]
  },
  {
   "cell_type": "markdown",
   "id": "8a2b7551",
   "metadata": {},
   "source": [
    "# Apply Support Vector Machine (SVM) algorithm"
   ]
  },
  {
   "cell_type": "code",
   "execution_count": 20,
   "id": "4de8015f",
   "metadata": {},
   "outputs": [
    {
     "data": {
      "text/plain": [
       "SVC(C=100.0, gamma=0.001, kernel='linear')"
      ]
     },
     "execution_count": 20,
     "metadata": {},
     "output_type": "execute_result"
    }
   ],
   "source": [
    "# Import the `svm` model\n",
    "from sklearn import svm\n",
    "\n",
    "# Create the SVC model \n",
    "svc_model = svm.SVC(gamma=0.001, C=100., kernel='linear')\n",
    "\n",
    "# Fit the data to the SVC model\n",
    "svc_model.fit(X_train, y_train)"
   ]
  },
  {
   "cell_type": "code",
   "execution_count": 21,
   "id": "a439d3f8",
   "metadata": {},
   "outputs": [
    {
     "name": "stdout",
     "output_type": "stream",
     "text": [
      "[6 9 3 7 2 1 5 2 5 2]\n",
      "[6 9 3 7 2 1 5 2 5 2]\n"
     ]
    }
   ],
   "source": [
    "# Predict the label of `X_test`\n",
    "predicted = svc_model.predict(X_test)\n",
    "\n",
    "# Print first 10 values of `predicted` and `y_test` to check the results\n",
    "print(predicted[:10])\n",
    "print(y_test[:10])"
   ]
  },
  {
   "cell_type": "code",
   "execution_count": 22,
   "id": "17df92c7",
   "metadata": {},
   "outputs": [
    {
     "data": {
      "text/plain": [
       "((450,), (450,))"
      ]
     },
     "execution_count": 22,
     "metadata": {},
     "output_type": "execute_result"
    }
   ],
   "source": [
    "predicted.shape, y_test.shape"
   ]
  },
  {
   "cell_type": "markdown",
   "id": "899db7d3",
   "metadata": {},
   "source": [
    "# Evaluation of Your SVM Model"
   ]
  },
  {
   "cell_type": "code",
   "execution_count": 23,
   "id": "ae470ebe",
   "metadata": {},
   "outputs": [
    {
     "name": "stdout",
     "output_type": "stream",
     "text": [
      "              precision    recall  f1-score   support\n",
      "\n",
      "           0       1.00      1.00      1.00        43\n",
      "           1       0.97      1.00      0.99        37\n",
      "           2       0.97      1.00      0.99        38\n",
      "           3       0.98      0.93      0.96        46\n",
      "           4       1.00      0.98      0.99        55\n",
      "           5       0.97      1.00      0.98        59\n",
      "           6       1.00      1.00      1.00        45\n",
      "           7       0.98      0.98      0.98        41\n",
      "           8       1.00      0.97      0.99        38\n",
      "           9       0.96      0.96      0.96        48\n",
      "\n",
      "    accuracy                           0.98       450\n",
      "   macro avg       0.98      0.98      0.98       450\n",
      "weighted avg       0.98      0.98      0.98       450\n",
      "\n",
      "[[43  0  0  0  0  0  0  0  0  0]\n",
      " [ 0 37  0  0  0  0  0  0  0  0]\n",
      " [ 0  0 38  0  0  0  0  0  0  0]\n",
      " [ 0  0  1 43  0  1  0  0  0  1]\n",
      " [ 0  1  0  0 54  0  0  0  0  0]\n",
      " [ 0  0  0  0  0 59  0  0  0  0]\n",
      " [ 0  0  0  0  0  0 45  0  0  0]\n",
      " [ 0  0  0  0  0  0  0 40  0  1]\n",
      " [ 0  0  0  0  0  1  0  0 37  0]\n",
      " [ 0  0  0  1  0  0  0  1  0 46]]\n"
     ]
    }
   ],
   "source": [
    "# Import `metrics`\n",
    "from sklearn import metrics\n",
    "\n",
    "# Print the classification report of `y_test` and `predicted`\n",
    "print(metrics.classification_report(y_test, predicted))\n",
    "\n",
    "# Print the confusion matrix of `y_test` and `predicted`\n",
    "print(metrics.confusion_matrix(y_test, predicted))"
   ]
  },
  {
   "cell_type": "markdown",
   "id": "45db5d81",
   "metadata": {},
   "source": [
    "# Summary: \n",
    "\n",
    "You have learned:  \n",
    "\n",
    "1. how to load an image dataset from Scikit-learn. \n",
    "\n",
    "2. how to explore your image data with the help of matplotlib and Principal Component Analysis (PCA),\n",
    "\n",
    "3. how to split your data into training and test sets.\n",
    "\n",
    "5. how to construct an supervised model (Support Vector Machines (SVM)), fit this model to the data, predict values, and validate the model that you have built.\n",
    "\n",
    "# Next: steps for investigating data"
   ]
  }
 ],
 "metadata": {
  "kernelspec": {
   "display_name": "Python 3",
   "language": "python",
   "name": "python3"
  },
  "language_info": {
   "codemirror_mode": {
    "name": "ipython",
    "version": 3
   },
   "file_extension": ".py",
   "mimetype": "text/x-python",
   "name": "python",
   "nbconvert_exporter": "python",
   "pygments_lexer": "ipython3",
   "version": "3.7.6"
  }
 },
 "nbformat": 4,
 "nbformat_minor": 5
}
