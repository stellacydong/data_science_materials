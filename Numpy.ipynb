{
 "cells": [
  {
   "cell_type": "markdown",
   "id": "785dde21",
   "metadata": {},
   "source": [
    "# Numpy\n",
    "\n",
    ">NumPy is the core tools for performing numerical computing with Python. It is used by many other scientific libraries such as Pandas, matplotlib.\n",
    "\n",
    "## Objectives: \n",
    "        1. create 1D and 2D arrays, including some special arrays ones, diag, zeros, ...\n",
    "        2. slice, index, reshape, sort an array   \n",
    "        3. preform numerical operations on arrays "
   ]
  },
  {
   "cell_type": "code",
   "execution_count": 1,
   "id": "92e9a4bb",
   "metadata": {},
   "outputs": [],
   "source": [
    "# import package NumPy \n",
    "import numpy as np"
   ]
  },
  {
   "cell_type": "markdown",
   "id": "69078b38",
   "metadata": {},
   "source": [
    "### Create 1-dimensional arrays (column vectors)"
   ]
  },
  {
   "cell_type": "code",
   "execution_count": 2,
   "id": "27ab93ce",
   "metadata": {},
   "outputs": [],
   "source": [
    "x = np.array([1, 2, 10, 2, 1 ])"
   ]
  },
  {
   "cell_type": "code",
   "execution_count": 3,
   "id": "c2261229",
   "metadata": {},
   "outputs": [
    {
     "data": {
      "text/plain": [
       "numpy.ndarray"
      ]
     },
     "execution_count": 3,
     "metadata": {},
     "output_type": "execute_result"
    }
   ],
   "source": [
    "type(x)"
   ]
  },
  {
   "cell_type": "code",
   "execution_count": 4,
   "id": "16660bae",
   "metadata": {},
   "outputs": [
    {
     "data": {
      "text/plain": [
       "array([ 1,  2, 10,  2,  1])"
      ]
     },
     "execution_count": 4,
     "metadata": {},
     "output_type": "execute_result"
    }
   ],
   "source": [
    "x"
   ]
  },
  {
   "cell_type": "code",
   "execution_count": 5,
   "id": "e974fe83",
   "metadata": {},
   "outputs": [
    {
     "data": {
      "text/plain": [
       "(5,)"
      ]
     },
     "execution_count": 5,
     "metadata": {},
     "output_type": "execute_result"
    }
   ],
   "source": [
    "# shape of the array, which shall be a 5 x 1 column vector\n",
    "x.shape"
   ]
  },
  {
   "cell_type": "code",
   "execution_count": 6,
   "id": "82b358f6",
   "metadata": {},
   "outputs": [
    {
     "data": {
      "text/plain": [
       "5"
      ]
     },
     "execution_count": 6,
     "metadata": {},
     "output_type": "execute_result"
    }
   ],
   "source": [
    "# number of rows \n",
    "len(x)"
   ]
  },
  {
   "cell_type": "code",
   "execution_count": 7,
   "id": "3e786433",
   "metadata": {},
   "outputs": [
    {
     "data": {
      "text/plain": [
       "1"
      ]
     },
     "execution_count": 7,
     "metadata": {},
     "output_type": "execute_result"
    }
   ],
   "source": [
    "# first element of the array x\n",
    "x[0]"
   ]
  },
  {
   "cell_type": "code",
   "execution_count": 8,
   "id": "bcd9c106",
   "metadata": {},
   "outputs": [
    {
     "data": {
      "text/plain": [
       "2"
      ]
     },
     "execution_count": 8,
     "metadata": {},
     "output_type": "execute_result"
    }
   ],
   "source": [
    "# second element of the array x\n",
    "x[1]"
   ]
  },
  {
   "cell_type": "code",
   "execution_count": 9,
   "id": "2d596c4f",
   "metadata": {},
   "outputs": [
    {
     "data": {
      "text/plain": [
       "1"
      ]
     },
     "execution_count": 9,
     "metadata": {},
     "output_type": "execute_result"
    }
   ],
   "source": [
    "# last element of the array x\n",
    "x[-1]"
   ]
  },
  {
   "cell_type": "code",
   "execution_count": 10,
   "id": "ed709190",
   "metadata": {},
   "outputs": [
    {
     "data": {
      "text/plain": [
       "array([1, 2])"
      ]
     },
     "execution_count": 10,
     "metadata": {},
     "output_type": "execute_result"
    }
   ],
   "source": [
    "# first 2 elements of the array x\n",
    "x[:2]"
   ]
  },
  {
   "cell_type": "code",
   "execution_count": 11,
   "id": "39fac156",
   "metadata": {},
   "outputs": [
    {
     "data": {
      "text/plain": [
       "array([2, 1])"
      ]
     },
     "execution_count": 11,
     "metadata": {},
     "output_type": "execute_result"
    }
   ],
   "source": [
    "# last 2 elements of the array x\n",
    "x[-2:]"
   ]
  },
  {
   "cell_type": "code",
   "execution_count": 12,
   "id": "b9274f76",
   "metadata": {},
   "outputs": [
    {
     "data": {
      "text/plain": [
       "array([ 2, 10,  2])"
      ]
     },
     "execution_count": 12,
     "metadata": {},
     "output_type": "execute_result"
    }
   ],
   "source": [
    "# from the 2nd to the 4th elements of the array x\n",
    "x[1:4]"
   ]
  },
  {
   "cell_type": "code",
   "execution_count": 13,
   "id": "aaa6f5a3",
   "metadata": {},
   "outputs": [
    {
     "data": {
      "text/plain": [
       "1"
      ]
     },
     "execution_count": 13,
     "metadata": {},
     "output_type": "execute_result"
    }
   ],
   "source": [
    "# dimension of the array x\n",
    "x.ndim"
   ]
  },
  {
   "cell_type": "markdown",
   "id": "12c10b12",
   "metadata": {},
   "source": [
    "### Create 2-dimensional arrays (matrices)"
   ]
  },
  {
   "cell_type": "code",
   "execution_count": 14,
   "id": "eb96bac5",
   "metadata": {},
   "outputs": [],
   "source": [
    "y = np.array([[1,2], [3,4]])"
   ]
  },
  {
   "cell_type": "code",
   "execution_count": 15,
   "id": "ab119957",
   "metadata": {},
   "outputs": [
    {
     "data": {
      "text/plain": [
       "array([[1, 2],\n",
       "       [3, 4]])"
      ]
     },
     "execution_count": 15,
     "metadata": {},
     "output_type": "execute_result"
    }
   ],
   "source": [
    "y"
   ]
  },
  {
   "cell_type": "code",
   "execution_count": 16,
   "id": "da42d1b8",
   "metadata": {},
   "outputs": [],
   "source": [
    "# you can also use list to create a 2-dim array \n",
    "n1 = [1, 2, 3]\n",
    "n2 = [4, 5, 6]\n",
    "n3 = [7, 8, 9]\n",
    "n4 = [10, 11, 12]\n",
    "m = np.array([n1, n2, n3, n4])"
   ]
  },
  {
   "cell_type": "code",
   "execution_count": 17,
   "id": "695b1ed5",
   "metadata": {},
   "outputs": [
    {
     "data": {
      "text/plain": [
       "array([[ 1,  2,  3],\n",
       "       [ 4,  5,  6],\n",
       "       [ 7,  8,  9],\n",
       "       [10, 11, 12]])"
      ]
     },
     "execution_count": 17,
     "metadata": {},
     "output_type": "execute_result"
    }
   ],
   "source": [
    "m"
   ]
  },
  {
   "cell_type": "code",
   "execution_count": 18,
   "id": "dab5c19b",
   "metadata": {},
   "outputs": [
    {
     "data": {
      "text/plain": [
       "2"
      ]
     },
     "execution_count": 18,
     "metadata": {},
     "output_type": "execute_result"
    }
   ],
   "source": [
    "m.ndim"
   ]
  },
  {
   "cell_type": "code",
   "execution_count": 19,
   "id": "1dfe53ad",
   "metadata": {},
   "outputs": [
    {
     "data": {
      "text/plain": [
       "(4, 3)"
      ]
     },
     "execution_count": 19,
     "metadata": {},
     "output_type": "execute_result"
    }
   ],
   "source": [
    "m.shape # (# rows, # columns)"
   ]
  },
  {
   "cell_type": "code",
   "execution_count": 20,
   "id": "f5a23832",
   "metadata": {},
   "outputs": [
    {
     "data": {
      "text/plain": [
       "4"
      ]
     },
     "execution_count": 20,
     "metadata": {},
     "output_type": "execute_result"
    }
   ],
   "source": [
    "len(m)"
   ]
  },
  {
   "cell_type": "code",
   "execution_count": 21,
   "id": "0194d014",
   "metadata": {},
   "outputs": [
    {
     "data": {
      "text/plain": [
       "array([1, 2, 3])"
      ]
     },
     "execution_count": 21,
     "metadata": {},
     "output_type": "execute_result"
    }
   ],
   "source": [
    "# the 1st row of matrix m\n",
    "m[0,:]"
   ]
  },
  {
   "cell_type": "code",
   "execution_count": 22,
   "id": "e89d93e7",
   "metadata": {},
   "outputs": [
    {
     "data": {
      "text/plain": [
       "array([[1, 2, 3],\n",
       "       [4, 5, 6]])"
      ]
     },
     "execution_count": 22,
     "metadata": {},
     "output_type": "execute_result"
    }
   ],
   "source": [
    "# the first two rows of matrix m\n",
    "m[:2,:]"
   ]
  },
  {
   "cell_type": "code",
   "execution_count": 23,
   "id": "40b233e6",
   "metadata": {},
   "outputs": [
    {
     "data": {
      "text/plain": [
       "array([ 1,  4,  7, 10])"
      ]
     },
     "execution_count": 23,
     "metadata": {},
     "output_type": "execute_result"
    }
   ],
   "source": [
    "# the 1st column of matrix m\n",
    "m[:,0]"
   ]
  },
  {
   "cell_type": "code",
   "execution_count": 24,
   "id": "de6a7638",
   "metadata": {},
   "outputs": [
    {
     "data": {
      "text/plain": [
       "array([[ 2,  3],\n",
       "       [ 5,  6],\n",
       "       [ 8,  9],\n",
       "       [11, 12]])"
      ]
     },
     "execution_count": 24,
     "metadata": {},
     "output_type": "execute_result"
    }
   ],
   "source": [
    "# the last two column of matrix m\n",
    "m[:,-2:]"
   ]
  },
  {
   "cell_type": "code",
   "execution_count": 25,
   "id": "4843dbd9",
   "metadata": {},
   "outputs": [
    {
     "data": {
      "text/plain": [
       "11"
      ]
     },
     "execution_count": 25,
     "metadata": {},
     "output_type": "execute_result"
    }
   ],
   "source": [
    "# the 4th row and 2nd column element (answer shall be 11)\n",
    "m[3,1]"
   ]
  },
  {
   "cell_type": "markdown",
   "id": "afbdff1d",
   "metadata": {},
   "source": [
    "### Create special 2-dimensional arrays (ones, zeros, diag, eye, empty, random)"
   ]
  },
  {
   "cell_type": "code",
   "execution_count": 26,
   "id": "68ecb537",
   "metadata": {},
   "outputs": [
    {
     "data": {
      "text/plain": [
       "array([[5, 0, 0, 0],\n",
       "       [0, 5, 0, 0],\n",
       "       [0, 0, 1, 0],\n",
       "       [0, 0, 0, 1]])"
      ]
     },
     "execution_count": 26,
     "metadata": {},
     "output_type": "execute_result"
    }
   ],
   "source": [
    "# diag matrix \n",
    "np.diag((5,5,1,1))"
   ]
  },
  {
   "cell_type": "code",
   "execution_count": 27,
   "id": "97447020",
   "metadata": {},
   "outputs": [
    {
     "data": {
      "text/plain": [
       "array([[1., 1., 1., 1.],\n",
       "       [1., 1., 1., 1.]])"
      ]
     },
     "execution_count": 27,
     "metadata": {},
     "output_type": "execute_result"
    }
   ],
   "source": [
    "# matrix with all entries equal to 1\n",
    "np.ones((2,4))"
   ]
  },
  {
   "cell_type": "code",
   "execution_count": 28,
   "id": "55d7404f",
   "metadata": {},
   "outputs": [
    {
     "data": {
      "text/plain": [
       "array([[0., 0.],\n",
       "       [0., 0.]])"
      ]
     },
     "execution_count": 28,
     "metadata": {},
     "output_type": "execute_result"
    }
   ],
   "source": [
    "# zero matrix \n",
    "np.zeros((2,2))"
   ]
  },
  {
   "cell_type": "code",
   "execution_count": 29,
   "id": "17454d2c",
   "metadata": {},
   "outputs": [
    {
     "data": {
      "text/plain": [
       "array([[1., 0., 0.],\n",
       "       [0., 1., 0.],\n",
       "       [0., 0., 1.]])"
      ]
     },
     "execution_count": 29,
     "metadata": {},
     "output_type": "execute_result"
    }
   ],
   "source": [
    "# identity matrix \n",
    "np.eye(3)"
   ]
  },
  {
   "cell_type": "code",
   "execution_count": 30,
   "id": "b674637d",
   "metadata": {},
   "outputs": [
    {
     "data": {
      "text/plain": [
       "array([ 0.23973047,  0.12029351, -2.25294415,  0.89833212])"
      ]
     },
     "execution_count": 30,
     "metadata": {},
     "output_type": "execute_result"
    }
   ],
   "source": [
    "# array of normally distributed values\n",
    "np.random.normal(size=4)"
   ]
  },
  {
   "cell_type": "code",
   "execution_count": 31,
   "id": "3aea1e7a",
   "metadata": {},
   "outputs": [
    {
     "data": {
      "text/plain": [
       "array([[-0.21347282, -1.74292885,  0.44332602, -1.67026125],\n",
       "       [-0.67949249,  1.70277704,  0.59998401, -1.31791443],\n",
       "       [-2.11214613, -1.54213709, -2.09751456,  0.45726634],\n",
       "       [-2.2402325 ,  0.46698471,  0.35356169, -0.96878535]])"
      ]
     },
     "execution_count": 31,
     "metadata": {},
     "output_type": "execute_result"
    }
   ],
   "source": [
    "# array of normally distributed values\n",
    "np.random.normal(size=(4,4))"
   ]
  },
  {
   "cell_type": "markdown",
   "id": "83fcdcc2",
   "metadata": {},
   "source": [
    "## data types"
   ]
  },
  {
   "cell_type": "code",
   "execution_count": 32,
   "id": "1bf96f76",
   "metadata": {},
   "outputs": [
    {
     "data": {
      "text/plain": [
       "dtype('int64')"
      ]
     },
     "execution_count": 32,
     "metadata": {},
     "output_type": "execute_result"
    }
   ],
   "source": [
    "x = np.array([1, 2, 3])\n",
    "x.dtype"
   ]
  },
  {
   "cell_type": "code",
   "execution_count": 33,
   "id": "369dbb68",
   "metadata": {},
   "outputs": [
    {
     "data": {
      "text/plain": [
       "array([1, 2, 3])"
      ]
     },
     "execution_count": 33,
     "metadata": {},
     "output_type": "execute_result"
    }
   ],
   "source": [
    "x"
   ]
  },
  {
   "cell_type": "code",
   "execution_count": 34,
   "id": "cf15f3ac",
   "metadata": {},
   "outputs": [
    {
     "data": {
      "text/plain": [
       "dtype('float64')"
      ]
     },
     "execution_count": 34,
     "metadata": {},
     "output_type": "execute_result"
    }
   ],
   "source": [
    "x = np.array([1., 2, 3.5])\n",
    "x.dtype"
   ]
  },
  {
   "cell_type": "code",
   "execution_count": 35,
   "id": "8a311058",
   "metadata": {},
   "outputs": [
    {
     "data": {
      "text/plain": [
       "array([1. , 2. , 3.5])"
      ]
     },
     "execution_count": 35,
     "metadata": {},
     "output_type": "execute_result"
    }
   ],
   "source": [
    "x"
   ]
  },
  {
   "cell_type": "code",
   "execution_count": 36,
   "id": "764e825e",
   "metadata": {},
   "outputs": [
    {
     "data": {
      "text/plain": [
       "dtype('float64')"
      ]
     },
     "execution_count": 36,
     "metadata": {},
     "output_type": "execute_result"
    }
   ],
   "source": [
    "x = np.array([1, 2, 3], dtype=float)\n",
    "x.dtype"
   ]
  },
  {
   "cell_type": "code",
   "execution_count": 37,
   "id": "4551879d",
   "metadata": {},
   "outputs": [
    {
     "data": {
      "text/plain": [
       "array([1., 2., 3.])"
      ]
     },
     "execution_count": 37,
     "metadata": {},
     "output_type": "execute_result"
    }
   ],
   "source": [
    "x = np.array([1, 2, 3])\n",
    "x = x.astype(float)\n",
    "x"
   ]
  },
  {
   "cell_type": "code",
   "execution_count": 38,
   "id": "c4d2fffa",
   "metadata": {},
   "outputs": [
    {
     "data": {
      "text/plain": [
       "array(['1.0', '1', 'oups'], dtype='<U32')"
      ]
     },
     "execution_count": 38,
     "metadata": {},
     "output_type": "execute_result"
    }
   ],
   "source": [
    "# If you mix types, the most complex type is used\n",
    "np.array([1.0, 1, \"oups\"])"
   ]
  },
  {
   "cell_type": "markdown",
   "id": "438366b2",
   "metadata": {},
   "source": [
    "## Indexing with boolean masks"
   ]
  },
  {
   "cell_type": "code",
   "execution_count": 39,
   "id": "79dbe976",
   "metadata": {},
   "outputs": [],
   "source": [
    "x = np.array([-10, -5, -0.1, 0, 2, 5, 6, 10000])"
   ]
  },
  {
   "cell_type": "code",
   "execution_count": 40,
   "id": "b4364a68",
   "metadata": {},
   "outputs": [
    {
     "data": {
      "text/plain": [
       "array([ True,  True,  True, False, False, False, False, False])"
      ]
     },
     "execution_count": 40,
     "metadata": {},
     "output_type": "execute_result"
    }
   ],
   "source": [
    "# check each element in array x whether it is less than 0 or not \n",
    "x<0"
   ]
  },
  {
   "cell_type": "code",
   "execution_count": 41,
   "id": "c65d43da",
   "metadata": {},
   "outputs": [
    {
     "data": {
      "text/plain": [
       "array([-10. ,  -5. ,  -0.1])"
      ]
     },
     "execution_count": 41,
     "metadata": {},
     "output_type": "execute_result"
    }
   ],
   "source": [
    "# pick all elements which are less than 0 in array x \n",
    "x[x<0]"
   ]
  },
  {
   "cell_type": "code",
   "execution_count": 42,
   "id": "07d3b366",
   "metadata": {},
   "outputs": [
    {
     "data": {
      "text/plain": [
       "array([ True, False, False,  True,  True, False,  True,  True])"
      ]
     },
     "execution_count": 42,
     "metadata": {},
     "output_type": "execute_result"
    }
   ],
   "source": [
    "# check each element in array x whether it is even or not \n",
    "x %  2 == 0"
   ]
  },
  {
   "cell_type": "code",
   "execution_count": 43,
   "id": "2e18db3a",
   "metadata": {},
   "outputs": [
    {
     "data": {
      "text/plain": [
       "array([-1.e+01,  0.e+00,  2.e+00,  6.e+00,  1.e+04])"
      ]
     },
     "execution_count": 43,
     "metadata": {},
     "output_type": "execute_result"
    }
   ],
   "source": [
    "# pick all even elements in array x \n",
    "x[x % 2 == 0]"
   ]
  },
  {
   "cell_type": "code",
   "execution_count": 44,
   "id": "290cfa3c",
   "metadata": {},
   "outputs": [
    {
     "data": {
      "text/plain": [
       "array([  -10,     0,     2,     6, 10000])"
      ]
     },
     "execution_count": 44,
     "metadata": {},
     "output_type": "execute_result"
    }
   ],
   "source": [
    "# convert all even elements to integers  \n",
    "x[x % 2 == 0].astype(int)"
   ]
  },
  {
   "cell_type": "markdown",
   "id": "dc8ad3a0",
   "metadata": {},
   "source": [
    "## Numerical operations"
   ]
  },
  {
   "cell_type": "code",
   "execution_count": 45,
   "id": "998960f0",
   "metadata": {},
   "outputs": [],
   "source": [
    "A = np.array([[4, 7], \n",
    "              [2, 6]])\n",
    "\n",
    "B = np.array([[0.6, -0.7],\n",
    "              [-0.2, 0.4]])"
   ]
  },
  {
   "cell_type": "code",
   "execution_count": 46,
   "id": "0640ba1d",
   "metadata": {},
   "outputs": [
    {
     "data": {
      "text/plain": [
       "array([[4.6, 6.3],\n",
       "       [1.8, 6.4]])"
      ]
     },
     "execution_count": 46,
     "metadata": {},
     "output_type": "execute_result"
    }
   ],
   "source": [
    "A + B"
   ]
  },
  {
   "cell_type": "code",
   "execution_count": 47,
   "id": "76e88e23",
   "metadata": {},
   "outputs": [
    {
     "data": {
      "text/plain": [
       "array([[3.4, 7.7],\n",
       "       [2.2, 5.6]])"
      ]
     },
     "execution_count": 47,
     "metadata": {},
     "output_type": "execute_result"
    }
   ],
   "source": [
    "A - B"
   ]
  },
  {
   "cell_type": "code",
   "execution_count": 48,
   "id": "4488bbc3",
   "metadata": {},
   "outputs": [
    {
     "data": {
      "text/plain": [
       "array([[ 2.4, -4.9],\n",
       "       [-0.4,  2.4]])"
      ]
     },
     "execution_count": 48,
     "metadata": {},
     "output_type": "execute_result"
    }
   ],
   "source": [
    "# elementwise product\n",
    "A * B"
   ]
  },
  {
   "cell_type": "code",
   "execution_count": 49,
   "id": "9bd129d2",
   "metadata": {},
   "outputs": [
    {
     "data": {
      "text/plain": [
       "array([[ 1.00000000e+00,  3.33066907e-16],\n",
       "       [-1.11022302e-16,  1.00000000e+00]])"
      ]
     },
     "execution_count": 49,
     "metadata": {},
     "output_type": "execute_result"
    }
   ],
   "source": [
    "# matrix product\n",
    "A.dot(B)"
   ]
  },
  {
   "cell_type": "code",
   "execution_count": 50,
   "id": "d9f66aef",
   "metadata": {},
   "outputs": [
    {
     "data": {
      "text/plain": [
       "array([[ 1.,  0.],\n",
       "       [-0.,  1.]])"
      ]
     },
     "execution_count": 50,
     "metadata": {},
     "output_type": "execute_result"
    }
   ],
   "source": [
    "A.dot(B).round()"
   ]
  },
  {
   "cell_type": "code",
   "execution_count": 51,
   "id": "a96d5020",
   "metadata": {},
   "outputs": [
    {
     "data": {
      "text/plain": [
       "array([[  6.66666667, -10.        ],\n",
       "       [-10.        ,  15.        ]])"
      ]
     },
     "execution_count": 51,
     "metadata": {},
     "output_type": "execute_result"
    }
   ],
   "source": [
    "# elementwise division \n",
    "A/B"
   ]
  },
  {
   "cell_type": "markdown",
   "id": "16cc794f",
   "metadata": {},
   "source": [
    "## reshape "
   ]
  },
  {
   "cell_type": "code",
   "execution_count": 52,
   "id": "8b9ce303",
   "metadata": {},
   "outputs": [],
   "source": [
    "a = np.array([[1,2,3],[4,5,6]])"
   ]
  },
  {
   "cell_type": "code",
   "execution_count": 53,
   "id": "bbdc0dbb",
   "metadata": {},
   "outputs": [
    {
     "data": {
      "text/plain": [
       "array([[1, 2, 3],\n",
       "       [4, 5, 6]])"
      ]
     },
     "execution_count": 53,
     "metadata": {},
     "output_type": "execute_result"
    }
   ],
   "source": [
    "a"
   ]
  },
  {
   "cell_type": "code",
   "execution_count": 54,
   "id": "59c9dde2",
   "metadata": {},
   "outputs": [
    {
     "data": {
      "text/plain": [
       "(2, 3)"
      ]
     },
     "execution_count": 54,
     "metadata": {},
     "output_type": "execute_result"
    }
   ],
   "source": [
    "a.shape"
   ]
  },
  {
   "cell_type": "code",
   "execution_count": 55,
   "id": "5c9f88c7",
   "metadata": {},
   "outputs": [],
   "source": [
    "# reshape to a 3x2 array \n",
    "b = a.reshape(3,2)"
   ]
  },
  {
   "cell_type": "code",
   "execution_count": 56,
   "id": "4bad40f0",
   "metadata": {},
   "outputs": [
    {
     "data": {
      "text/plain": [
       "array([[1, 2],\n",
       "       [3, 4],\n",
       "       [5, 6]])"
      ]
     },
     "execution_count": 56,
     "metadata": {},
     "output_type": "execute_result"
    }
   ],
   "source": [
    "b"
   ]
  },
  {
   "cell_type": "code",
   "execution_count": 57,
   "id": "7070b0be",
   "metadata": {},
   "outputs": [
    {
     "data": {
      "text/plain": [
       "(3, 2)"
      ]
     },
     "execution_count": 57,
     "metadata": {},
     "output_type": "execute_result"
    }
   ],
   "source": [
    "b.shape"
   ]
  },
  {
   "cell_type": "code",
   "execution_count": 58,
   "id": "a36d61e9",
   "metadata": {},
   "outputs": [],
   "source": [
    "# reshape to a 1x6 array \n",
    "c =  a.reshape((1,6))"
   ]
  },
  {
   "cell_type": "code",
   "execution_count": 59,
   "id": "82df1406",
   "metadata": {},
   "outputs": [
    {
     "data": {
      "text/plain": [
       "array([[1, 2, 3, 4, 5, 6]])"
      ]
     },
     "execution_count": 59,
     "metadata": {},
     "output_type": "execute_result"
    }
   ],
   "source": [
    "c "
   ]
  },
  {
   "cell_type": "code",
   "execution_count": 60,
   "id": "17ea7edc",
   "metadata": {},
   "outputs": [
    {
     "data": {
      "text/plain": [
       "(1, 6)"
      ]
     },
     "execution_count": 60,
     "metadata": {},
     "output_type": "execute_result"
    }
   ],
   "source": [
    "c.shape"
   ]
  },
  {
   "cell_type": "markdown",
   "id": "b82a73c0",
   "metadata": {},
   "source": [
    "## sorting "
   ]
  },
  {
   "cell_type": "code",
   "execution_count": 61,
   "id": "1c0ef11c",
   "metadata": {},
   "outputs": [
    {
     "data": {
      "text/plain": [
       "array([ 1,  2,  5,  7,  8, 10])"
      ]
     },
     "execution_count": 61,
     "metadata": {},
     "output_type": "execute_result"
    }
   ],
   "source": [
    "X = np.array([5,1,10,2,7,8])\n",
    "X.sort() # inplace\n",
    "X"
   ]
  },
  {
   "cell_type": "code",
   "execution_count": 62,
   "id": "16e4d879",
   "metadata": {},
   "outputs": [
    {
     "data": {
      "text/plain": [
       "array([ 1,  2,  5,  7,  8, 10])"
      ]
     },
     "execution_count": 62,
     "metadata": {},
     "output_type": "execute_result"
    }
   ],
   "source": [
    "X = np.array([5,1,10,2,7,8])\n",
    "np.sort(X)"
   ]
  },
  {
   "cell_type": "markdown",
   "id": "ee750a6c",
   "metadata": {},
   "source": [
    "# Summary\n",
    "    1. How to create arrays with : array, ones, diag, zeros, ...\n",
    "    2. How to check array's shape and dimensions\n",
    "    3. Perform slicing and indexing arrays\n",
    "    4. How to use operators. Keep in mind that * operator is an element-wise operation.\n",
    "    5. How to reshape and sort an array \n",
    "    6. Reference: http://numpy.org \n",
    "    \n"
   ]
  },
  {
   "cell_type": "markdown",
   "id": "d105ef15",
   "metadata": {},
   "source": [
    "## Next Pandas  ... "
   ]
  }
 ],
 "metadata": {
  "kernelspec": {
   "display_name": "Python 3",
   "language": "python",
   "name": "python3"
  },
  "language_info": {
   "codemirror_mode": {
    "name": "ipython",
    "version": 3
   },
   "file_extension": ".py",
   "mimetype": "text/x-python",
   "name": "python",
   "nbconvert_exporter": "python",
   "pygments_lexer": "ipython3",
   "version": "3.7.6"
  }
 },
 "nbformat": 4,
 "nbformat_minor": 5
}
